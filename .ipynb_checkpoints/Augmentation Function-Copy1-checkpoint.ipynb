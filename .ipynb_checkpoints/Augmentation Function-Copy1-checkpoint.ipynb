{
 "cells": [
  {
   "cell_type": "code",
   "execution_count": 41,
   "metadata": {},
   "outputs": [],
   "source": [
    "import pandas as pd\n",
    "import numpy as np\n",
    "import matplotlib.pyplot as plt\n",
    "import PIL\n",
    "from PIL import Image\n",
    "from numpy import asarray\n",
    "import glob\n",
    "import cv2\n",
    "import tensorflow as tf\n",
    "from tensorflow import keras"
   ]
  },
  {
   "cell_type": "markdown",
   "metadata": {},
   "source": [
    "## Import Data"
   ]
  },
  {
   "cell_type": "markdown",
   "metadata": {},
   "source": [
    "### Train.csv"
   ]
  },
  {
   "cell_type": "code",
   "execution_count": 2,
   "metadata": {},
   "outputs": [],
   "source": [
    "all_labels=pd.read_csv('train.csv')"
   ]
  },
  {
   "cell_type": "code",
   "execution_count": 3,
   "metadata": {},
   "outputs": [
    {
     "data": {
      "text/html": [
       "<div>\n",
       "<style scoped>\n",
       "    .dataframe tbody tr th:only-of-type {\n",
       "        vertical-align: middle;\n",
       "    }\n",
       "\n",
       "    .dataframe tbody tr th {\n",
       "        vertical-align: top;\n",
       "    }\n",
       "\n",
       "    .dataframe thead th {\n",
       "        text-align: right;\n",
       "    }\n",
       "</style>\n",
       "<table border=\"1\" class=\"dataframe\">\n",
       "  <thead>\n",
       "    <tr style=\"text-align: right;\">\n",
       "      <th></th>\n",
       "      <th>file_name</th>\n",
       "      <th>species</th>\n",
       "      <th>individual_id</th>\n",
       "    </tr>\n",
       "  </thead>\n",
       "  <tbody>\n",
       "    <tr>\n",
       "      <th>0</th>\n",
       "      <td>00021adfb725ed.jpg</td>\n",
       "      <td>melon_headed_whale</td>\n",
       "      <td>cadddb1636b9</td>\n",
       "    </tr>\n",
       "    <tr>\n",
       "      <th>1</th>\n",
       "      <td>000562241d384d.jpg</td>\n",
       "      <td>humpback_whale</td>\n",
       "      <td>1a71fbb72250</td>\n",
       "    </tr>\n",
       "    <tr>\n",
       "      <th>2</th>\n",
       "      <td>0007c33415ce37.jpg</td>\n",
       "      <td>false_killer_whale</td>\n",
       "      <td>60008f293a2b</td>\n",
       "    </tr>\n",
       "  </tbody>\n",
       "</table>\n",
       "</div>"
      ],
      "text/plain": [
       "            file_name             species individual_id\n",
       "0  00021adfb725ed.jpg  melon_headed_whale  cadddb1636b9\n",
       "1  000562241d384d.jpg      humpback_whale  1a71fbb72250\n",
       "2  0007c33415ce37.jpg  false_killer_whale  60008f293a2b"
      ]
     },
     "execution_count": 3,
     "metadata": {},
     "output_type": "execute_result"
    }
   ],
   "source": [
    "Labels_DF=pd.DataFrame(all_labels)\n",
    "Labels_DF.rename(columns={'image':'file_name'}, inplace=True)\n",
    "Labels_DF.head(3)"
   ]
  },
  {
   "cell_type": "code",
   "execution_count": 4,
   "metadata": {},
   "outputs": [
    {
     "data": {
      "text/plain": [
       "bottlenose_dolphin           9664\n",
       "beluga                       7443\n",
       "humpback_whale               7392\n",
       "blue_whale                   4830\n",
       "false_killer_whale           3326\n",
       "dusky_dolphin                3139\n",
       "spinner_dolphin              1700\n",
       "melon_headed_whale           1689\n",
       "minke_whale                  1608\n",
       "killer_whale                 1493\n",
       "fin_whale                    1324\n",
       "gray_whale                   1123\n",
       "bottlenose_dolpin            1117\n",
       "kiler_whale                   962\n",
       "southern_right_whale          866\n",
       "spotted_dolphin               490\n",
       "sei_whale                     428\n",
       "short_finned_pilot_whale      367\n",
       "common_dolphin                347\n",
       "cuviers_beaked_whale          341\n",
       "pilot_whale                   262\n",
       "long_finned_pilot_whale       238\n",
       "white_sided_dolphin           229\n",
       "brydes_whale                  154\n",
       "pantropic_spotted_dolphin     145\n",
       "globis                        116\n",
       "commersons_dolphin             90\n",
       "pygmy_killer_whale             76\n",
       "rough_toothed_dolphin          60\n",
       "frasiers_dolphin               14\n",
       "Name: species, dtype: int64"
      ]
     },
     "execution_count": 4,
     "metadata": {},
     "output_type": "execute_result"
    }
   ],
   "source": [
    "Labels_DF['species'].value_counts()"
   ]
  },
  {
   "cell_type": "code",
   "execution_count": 5,
   "metadata": {},
   "outputs": [],
   "source": [
    "## species with incorrect spellings.  bottlenose_dolpin, kiler_whale.\n",
    "Labels_DF['species'].replace('bottlenose_dolpin', 'bottlenose_dolphin', inplace=True)\n",
    "Labels_DF['species'].replace('kiler_whale', 'killer_whale', inplace=True)"
   ]
  },
  {
   "cell_type": "code",
   "execution_count": 6,
   "metadata": {},
   "outputs": [],
   "source": [
    "## create subspecies for whale or dolphin\n",
    "sub=[]\n",
    "for each in Labels_DF['species']:\n",
    "    if 'dolphin' in each:\n",
    "        a=1\n",
    "    else: a=2\n",
    "    sub.append(a)"
   ]
  },
  {
   "cell_type": "code",
   "execution_count": 7,
   "metadata": {},
   "outputs": [],
   "source": [
    "Labels_DF['sub_cat']=sub"
   ]
  },
  {
   "cell_type": "code",
   "execution_count": 8,
   "metadata": {},
   "outputs": [],
   "source": [
    "## create species cat numerical\n",
    "from sklearn.preprocessing import OrdinalEncoder\n",
    "OE=OrdinalEncoder()\n",
    "SE=OE.fit_transform(Labels_DF[['species']])\n",
    "Labels_DF['species_category']=SE.astype(int)"
   ]
  },
  {
   "cell_type": "code",
   "execution_count": 9,
   "metadata": {
    "scrolled": true
   },
   "outputs": [
    {
     "data": {
      "text/html": [
       "<div>\n",
       "<style scoped>\n",
       "    .dataframe tbody tr th:only-of-type {\n",
       "        vertical-align: middle;\n",
       "    }\n",
       "\n",
       "    .dataframe tbody tr th {\n",
       "        vertical-align: top;\n",
       "    }\n",
       "\n",
       "    .dataframe thead th {\n",
       "        text-align: right;\n",
       "    }\n",
       "</style>\n",
       "<table border=\"1\" class=\"dataframe\">\n",
       "  <thead>\n",
       "    <tr style=\"text-align: right;\">\n",
       "      <th></th>\n",
       "      <th>file_name</th>\n",
       "      <th>species</th>\n",
       "      <th>individual_id</th>\n",
       "      <th>sub_cat</th>\n",
       "      <th>species_category</th>\n",
       "    </tr>\n",
       "  </thead>\n",
       "  <tbody>\n",
       "    <tr>\n",
       "      <th>0</th>\n",
       "      <td>00021adfb725ed.jpg</td>\n",
       "      <td>melon_headed_whale</td>\n",
       "      <td>cadddb1636b9</td>\n",
       "      <td>2</td>\n",
       "      <td>16</td>\n",
       "    </tr>\n",
       "    <tr>\n",
       "      <th>1</th>\n",
       "      <td>000562241d384d.jpg</td>\n",
       "      <td>humpback_whale</td>\n",
       "      <td>1a71fbb72250</td>\n",
       "      <td>2</td>\n",
       "      <td>13</td>\n",
       "    </tr>\n",
       "    <tr>\n",
       "      <th>2</th>\n",
       "      <td>0007c33415ce37.jpg</td>\n",
       "      <td>false_killer_whale</td>\n",
       "      <td>60008f293a2b</td>\n",
       "      <td>2</td>\n",
       "      <td>8</td>\n",
       "    </tr>\n",
       "    <tr>\n",
       "      <th>3</th>\n",
       "      <td>0007d9bca26a99.jpg</td>\n",
       "      <td>bottlenose_dolphin</td>\n",
       "      <td>4b00fe572063</td>\n",
       "      <td>1</td>\n",
       "      <td>2</td>\n",
       "    </tr>\n",
       "    <tr>\n",
       "      <th>4</th>\n",
       "      <td>00087baf5cef7a.jpg</td>\n",
       "      <td>humpback_whale</td>\n",
       "      <td>8e5253662392</td>\n",
       "      <td>2</td>\n",
       "      <td>13</td>\n",
       "    </tr>\n",
       "    <tr>\n",
       "      <th>5</th>\n",
       "      <td>000a8f2d5c316a.jpg</td>\n",
       "      <td>bottlenose_dolphin</td>\n",
       "      <td>b9907151f66e</td>\n",
       "      <td>1</td>\n",
       "      <td>2</td>\n",
       "    </tr>\n",
       "  </tbody>\n",
       "</table>\n",
       "</div>"
      ],
      "text/plain": [
       "            file_name             species individual_id  sub_cat  \\\n",
       "0  00021adfb725ed.jpg  melon_headed_whale  cadddb1636b9        2   \n",
       "1  000562241d384d.jpg      humpback_whale  1a71fbb72250        2   \n",
       "2  0007c33415ce37.jpg  false_killer_whale  60008f293a2b        2   \n",
       "3  0007d9bca26a99.jpg  bottlenose_dolphin  4b00fe572063        1   \n",
       "4  00087baf5cef7a.jpg      humpback_whale  8e5253662392        2   \n",
       "5  000a8f2d5c316a.jpg  bottlenose_dolphin  b9907151f66e        1   \n",
       "\n",
       "   species_category  \n",
       "0                16  \n",
       "1                13  \n",
       "2                 8  \n",
       "3                 2  \n",
       "4                13  \n",
       "5                 2  "
      ]
     },
     "execution_count": 9,
     "metadata": {},
     "output_type": "execute_result"
    }
   ],
   "source": [
    "Labels_DF.head(6)"
   ]
  },
  {
   "cell_type": "code",
   "execution_count": 10,
   "metadata": {
    "scrolled": true
   },
   "outputs": [
    {
     "data": {
      "text/plain": [
       "28"
      ]
     },
     "execution_count": 10,
     "metadata": {},
     "output_type": "execute_result"
    }
   ],
   "source": [
    "len(Labels_DF['species_category'].value_counts())"
   ]
  },
  {
   "cell_type": "markdown",
   "metadata": {},
   "source": [
    "## Get images from SmallSample folder to test"
   ]
  },
  {
   "cell_type": "code",
   "execution_count": 11,
   "metadata": {},
   "outputs": [],
   "source": [
    "# get images\n",
    "image_list = []\n",
    "for filename in glob.glob('SmallSample/*.jpg'):\n",
    "    im=Image.open(filename)\n",
    "    image_list.append(im)"
   ]
  },
  {
   "cell_type": "code",
   "execution_count": 12,
   "metadata": {},
   "outputs": [
    {
     "data": {
      "text/plain": [
       "152"
      ]
     },
     "execution_count": 12,
     "metadata": {},
     "output_type": "execute_result"
    }
   ],
   "source": [
    "len(image_list)"
   ]
  },
  {
   "cell_type": "code",
   "execution_count": 13,
   "metadata": {},
   "outputs": [],
   "source": [
    "# file name for each image\n",
    "image_names = []\n",
    "for filename in glob.glob('SmallSample/*.jpg'):\n",
    "    name=filename.strip('SmallSample\\\\')\n",
    "    image_names.append(name)"
   ]
  },
  {
   "cell_type": "code",
   "execution_count": 14,
   "metadata": {},
   "outputs": [],
   "source": [
    "Image_DF=pd.DataFrame({\n",
    "    'image': image_list,\n",
    "    'file_name': image_names\n",
    "    })"
   ]
  },
  {
   "cell_type": "code",
   "execution_count": 15,
   "metadata": {
    "scrolled": false
   },
   "outputs": [
    {
     "data": {
      "text/html": [
       "<div>\n",
       "<style scoped>\n",
       "    .dataframe tbody tr th:only-of-type {\n",
       "        vertical-align: middle;\n",
       "    }\n",
       "\n",
       "    .dataframe tbody tr th {\n",
       "        vertical-align: top;\n",
       "    }\n",
       "\n",
       "    .dataframe thead th {\n",
       "        text-align: right;\n",
       "    }\n",
       "</style>\n",
       "<table border=\"1\" class=\"dataframe\">\n",
       "  <thead>\n",
       "    <tr style=\"text-align: right;\">\n",
       "      <th></th>\n",
       "      <th>image</th>\n",
       "      <th>file_name</th>\n",
       "    </tr>\n",
       "  </thead>\n",
       "  <tbody>\n",
       "    <tr>\n",
       "      <th>0</th>\n",
       "      <td>&lt;PIL.JpegImagePlugin.JpegImageFile image mode=...</td>\n",
       "      <td>000a8f2d5c316a.jpg</td>\n",
       "    </tr>\n",
       "    <tr>\n",
       "      <th>1</th>\n",
       "      <td>&lt;PIL.JpegImagePlugin.JpegImageFile image mode=...</td>\n",
       "      <td>000be9acf46619.jpg</td>\n",
       "    </tr>\n",
       "    <tr>\n",
       "      <th>2</th>\n",
       "      <td>&lt;PIL.JpegImagePlugin.JpegImageFile image mode=...</td>\n",
       "      <td>000bef247c7a42.jpg</td>\n",
       "    </tr>\n",
       "  </tbody>\n",
       "</table>\n",
       "</div>"
      ],
      "text/plain": [
       "                                               image           file_name\n",
       "0  <PIL.JpegImagePlugin.JpegImageFile image mode=...  000a8f2d5c316a.jpg\n",
       "1  <PIL.JpegImagePlugin.JpegImageFile image mode=...  000be9acf46619.jpg\n",
       "2  <PIL.JpegImagePlugin.JpegImageFile image mode=...  000bef247c7a42.jpg"
      ]
     },
     "execution_count": 15,
     "metadata": {},
     "output_type": "execute_result"
    }
   ],
   "source": [
    "Image_DF.head(3)"
   ]
  },
  {
   "cell_type": "code",
   "execution_count": 16,
   "metadata": {},
   "outputs": [],
   "source": [
    "## Join Dataframes\n",
    "\n",
    "Big_DF=Image_DF.merge(Labels_DF, how='outer')"
   ]
  },
  {
   "cell_type": "code",
   "execution_count": 17,
   "metadata": {
    "scrolled": false
   },
   "outputs": [
    {
     "data": {
      "text/html": [
       "<div>\n",
       "<style scoped>\n",
       "    .dataframe tbody tr th:only-of-type {\n",
       "        vertical-align: middle;\n",
       "    }\n",
       "\n",
       "    .dataframe tbody tr th {\n",
       "        vertical-align: top;\n",
       "    }\n",
       "\n",
       "    .dataframe thead th {\n",
       "        text-align: right;\n",
       "    }\n",
       "</style>\n",
       "<table border=\"1\" class=\"dataframe\">\n",
       "  <thead>\n",
       "    <tr style=\"text-align: right;\">\n",
       "      <th></th>\n",
       "      <th>image</th>\n",
       "      <th>file_name</th>\n",
       "      <th>species</th>\n",
       "      <th>individual_id</th>\n",
       "      <th>sub_cat</th>\n",
       "      <th>species_category</th>\n",
       "    </tr>\n",
       "  </thead>\n",
       "  <tbody>\n",
       "    <tr>\n",
       "      <th>0</th>\n",
       "      <td>&lt;PIL.JpegImagePlugin.JpegImageFile image mode=...</td>\n",
       "      <td>000a8f2d5c316a.jpg</td>\n",
       "      <td>bottlenose_dolphin</td>\n",
       "      <td>b9907151f66e</td>\n",
       "      <td>1</td>\n",
       "      <td>2</td>\n",
       "    </tr>\n",
       "    <tr>\n",
       "      <th>1</th>\n",
       "      <td>&lt;PIL.JpegImagePlugin.JpegImageFile image mode=...</td>\n",
       "      <td>000be9acf46619.jpg</td>\n",
       "      <td>beluga</td>\n",
       "      <td>afb9b3978217</td>\n",
       "      <td>2</td>\n",
       "      <td>0</td>\n",
       "    </tr>\n",
       "    <tr>\n",
       "      <th>2</th>\n",
       "      <td>&lt;PIL.JpegImagePlugin.JpegImageFile image mode=...</td>\n",
       "      <td>000bef247c7a42.jpg</td>\n",
       "      <td>humpback_whale</td>\n",
       "      <td>444d8894ccc8</td>\n",
       "      <td>2</td>\n",
       "      <td>13</td>\n",
       "    </tr>\n",
       "    <tr>\n",
       "      <th>3</th>\n",
       "      <td>&lt;PIL.JpegImagePlugin.JpegImageFile image mode=...</td>\n",
       "      <td>000c3d63069748.jpg</td>\n",
       "      <td>beluga</td>\n",
       "      <td>df94b15285b9</td>\n",
       "      <td>2</td>\n",
       "      <td>0</td>\n",
       "    </tr>\n",
       "    <tr>\n",
       "      <th>4</th>\n",
       "      <td>&lt;PIL.JpegImagePlugin.JpegImageFile image mode=...</td>\n",
       "      <td>000c476c11bad5.jpg</td>\n",
       "      <td>bottlenose_dolphin</td>\n",
       "      <td>b11b2404c7e3</td>\n",
       "      <td>1</td>\n",
       "      <td>2</td>\n",
       "    </tr>\n",
       "  </tbody>\n",
       "</table>\n",
       "</div>"
      ],
      "text/plain": [
       "                                               image           file_name  \\\n",
       "0  <PIL.JpegImagePlugin.JpegImageFile image mode=...  000a8f2d5c316a.jpg   \n",
       "1  <PIL.JpegImagePlugin.JpegImageFile image mode=...  000be9acf46619.jpg   \n",
       "2  <PIL.JpegImagePlugin.JpegImageFile image mode=...  000bef247c7a42.jpg   \n",
       "3  <PIL.JpegImagePlugin.JpegImageFile image mode=...  000c3d63069748.jpg   \n",
       "4  <PIL.JpegImagePlugin.JpegImageFile image mode=...  000c476c11bad5.jpg   \n",
       "\n",
       "              species individual_id  sub_cat  species_category  \n",
       "0  bottlenose_dolphin  b9907151f66e        1                 2  \n",
       "1              beluga  afb9b3978217        2                 0  \n",
       "2      humpback_whale  444d8894ccc8        2                13  \n",
       "3              beluga  df94b15285b9        2                 0  \n",
       "4  bottlenose_dolphin  b11b2404c7e3        1                 2  "
      ]
     },
     "execution_count": 17,
     "metadata": {},
     "output_type": "execute_result"
    }
   ],
   "source": [
    "Big_DF=Big_DF[:152]\n",
    "Big_DF.head(5)"
   ]
  },
  {
   "cell_type": "markdown",
   "metadata": {},
   "source": [
    "### Separate images into Dolphins and Whales folders"
   ]
  },
  {
   "cell_type": "markdown",
   "metadata": {},
   "source": [
    "####  Use Labels_DF to get all images when have a working model"
   ]
  },
  {
   "cell_type": "code",
   "execution_count": 18,
   "metadata": {},
   "outputs": [],
   "source": [
    "Dolphins=pd.DataFrame(Big_DF.loc[Big_DF['sub_cat']==1])\n",
    "Dolphins=Dolphins['file_name']\n",
    "#Dolphins"
   ]
  },
  {
   "cell_type": "code",
   "execution_count": 19,
   "metadata": {},
   "outputs": [],
   "source": [
    "# for each in Dolphins:\n",
    "#     name=each\n",
    "#     img=Image.open(f'SmallSample/{name}')\n",
    "#    # img.show()\n",
    "#     img.save(f\"Labels/Dolphins/{name}.jpg\")"
   ]
  },
  {
   "cell_type": "code",
   "execution_count": 20,
   "metadata": {},
   "outputs": [],
   "source": [
    "Whales=pd.DataFrame(Big_DF.loc[Big_DF['sub_cat']==2])\n",
    "Whales=Whales['file_name']\n",
    "#Whales"
   ]
  },
  {
   "cell_type": "code",
   "execution_count": 21,
   "metadata": {},
   "outputs": [],
   "source": [
    "# for each in Whales:\n",
    "#     name=each\n",
    "#     img=Image.open(f'SmallSample/{name}')\n",
    "#     img.save(f\"Labels/Whales/{name}.jpg\")"
   ]
  },
  {
   "cell_type": "code",
   "execution_count": 22,
   "metadata": {},
   "outputs": [
    {
     "name": "stdout",
     "output_type": "stream",
     "text": [
      "Found 152 files belonging to 2 classes.\n"
     ]
    }
   ],
   "source": [
    "dataset=keras.preprocessing.image_dataset_from_directory('Labels', batch_size=20, image_size=(150,150))"
   ]
  },
  {
   "cell_type": "code",
   "execution_count": 23,
   "metadata": {},
   "outputs": [
    {
     "name": "stdout",
     "output_type": "stream",
     "text": [
      "(20, 150, 150, 3)\n",
      "<dtype: 'float32'>\n",
      "(20,)\n",
      "<dtype: 'int32'>\n",
      "(20, 150, 150, 3)\n",
      "<dtype: 'float32'>\n",
      "(20,)\n",
      "<dtype: 'int32'>\n",
      "(20, 150, 150, 3)\n",
      "<dtype: 'float32'>\n",
      "(20,)\n",
      "<dtype: 'int32'>\n",
      "(20, 150, 150, 3)\n",
      "<dtype: 'float32'>\n",
      "(20,)\n",
      "<dtype: 'int32'>\n",
      "(20, 150, 150, 3)\n",
      "<dtype: 'float32'>\n",
      "(20,)\n",
      "<dtype: 'int32'>\n",
      "(20, 150, 150, 3)\n",
      "<dtype: 'float32'>\n",
      "(20,)\n",
      "<dtype: 'int32'>\n",
      "(20, 150, 150, 3)\n",
      "<dtype: 'float32'>\n",
      "(20,)\n",
      "<dtype: 'int32'>\n",
      "(12, 150, 150, 3)\n",
      "<dtype: 'float32'>\n",
      "(12,)\n",
      "<dtype: 'int32'>\n"
     ]
    }
   ],
   "source": [
    "for data, label in dataset:\n",
    "    print(data.shape)\n",
    "    print(data.dtype)\n",
    "    print(label.shape)\n",
    "    print(label.dtype)"
   ]
  },
  {
   "cell_type": "code",
   "execution_count": 60,
   "metadata": {},
   "outputs": [],
   "source": [
    "from tensorflow.keras import layers\n",
    "from tensorflow.keras.layers import LayerNormalization\n",
    "\n",
    "model=keras.models.Sequential()\n",
    "model.add(keras.layers.LayerNormalization())\n",
    "model.add(keras.layers.Flatten(input_shape=[150,150,3]))\n",
    "model.add(keras.layers.Dense(150, activation='relu'))\n",
    "model.add(keras.layers.Dense(100, activation='relu'))\n",
    "model.add(keras.layers.Dense(2, activation='softmax'))"
   ]
  },
  {
   "cell_type": "code",
   "execution_count": 65,
   "metadata": {},
   "outputs": [],
   "source": [
    "model.compile(loss=\"sparse_categorical_crossentropy\", optimizer=\"adam\", metrics=['accuracy'])"
   ]
  },
  {
   "cell_type": "code",
   "execution_count": 66,
   "metadata": {},
   "outputs": [
    {
     "name": "stdout",
     "output_type": "stream",
     "text": [
      "Epoch 1/5\n",
      "8/8 [==============================] - 1s 82ms/step - loss: 19.0851 - accuracy: 0.6447\n",
      "Epoch 2/5\n",
      "8/8 [==============================] - 1s 77ms/step - loss: 9.1986 - accuracy: 0.6776\n",
      "Epoch 3/5\n",
      "8/8 [==============================] - 1s 80ms/step - loss: 0.7616 - accuracy: 0.8158\n",
      "Epoch 4/5\n",
      "8/8 [==============================] - 1s 81ms/step - loss: 2.5172 - accuracy: 0.8092\n",
      "Epoch 5/5\n",
      "8/8 [==============================] - 1s 79ms/step - loss: 1.3924 - accuracy: 0.8553\n"
     ]
    },
    {
     "data": {
      "text/plain": [
       "<tensorflow.python.keras.callbacks.History at 0x1febaaed908>"
      ]
     },
     "execution_count": 66,
     "metadata": {},
     "output_type": "execute_result"
    }
   ],
   "source": [
    "model.fit(dataset, epochs=5)"
   ]
  },
  {
   "cell_type": "code",
   "execution_count": null,
   "metadata": {},
   "outputs": [],
   "source": []
  }
 ],
 "metadata": {
  "kernelspec": {
   "display_name": "Python 3",
   "language": "python",
   "name": "python3"
  },
  "language_info": {
   "codemirror_mode": {
    "name": "ipython",
    "version": 3
   },
   "file_extension": ".py",
   "mimetype": "text/x-python",
   "name": "python",
   "nbconvert_exporter": "python",
   "pygments_lexer": "ipython3",
   "version": "3.7.6"
  }
 },
 "nbformat": 4,
 "nbformat_minor": 4
}
