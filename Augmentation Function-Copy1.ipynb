{
 "cells": [
  {
   "cell_type": "code",
   "execution_count": 25,
   "metadata": {},
   "outputs": [],
   "source": [
    "import pandas as pd\n",
    "import numpy as np\n",
    "import matplotlib.pyplot as plt\n",
    "import PIL\n",
    "from PIL import Image\n",
    "from numpy import asarray\n",
    "import glob\n",
    "import cv2\n",
    "import tensorflow as tf\n",
    "from tensorflow import keras"
   ]
  },
  {
   "cell_type": "markdown",
   "metadata": {},
   "source": [
    "#### Import Data"
   ]
  },
  {
   "cell_type": "code",
   "execution_count": 2,
   "metadata": {},
   "outputs": [],
   "source": [
    "all_labels=pd.read_csv('train.csv')"
   ]
  },
  {
   "cell_type": "code",
   "execution_count": 4,
   "metadata": {},
   "outputs": [
    {
     "data": {
      "text/html": [
       "<div>\n",
       "<style scoped>\n",
       "    .dataframe tbody tr th:only-of-type {\n",
       "        vertical-align: middle;\n",
       "    }\n",
       "\n",
       "    .dataframe tbody tr th {\n",
       "        vertical-align: top;\n",
       "    }\n",
       "\n",
       "    .dataframe thead th {\n",
       "        text-align: right;\n",
       "    }\n",
       "</style>\n",
       "<table border=\"1\" class=\"dataframe\">\n",
       "  <thead>\n",
       "    <tr style=\"text-align: right;\">\n",
       "      <th></th>\n",
       "      <th>file_name</th>\n",
       "      <th>species</th>\n",
       "      <th>individual_id</th>\n",
       "    </tr>\n",
       "  </thead>\n",
       "  <tbody>\n",
       "    <tr>\n",
       "      <th>0</th>\n",
       "      <td>00021adfb725ed.jpg</td>\n",
       "      <td>melon_headed_whale</td>\n",
       "      <td>cadddb1636b9</td>\n",
       "    </tr>\n",
       "    <tr>\n",
       "      <th>1</th>\n",
       "      <td>000562241d384d.jpg</td>\n",
       "      <td>humpback_whale</td>\n",
       "      <td>1a71fbb72250</td>\n",
       "    </tr>\n",
       "    <tr>\n",
       "      <th>2</th>\n",
       "      <td>0007c33415ce37.jpg</td>\n",
       "      <td>false_killer_whale</td>\n",
       "      <td>60008f293a2b</td>\n",
       "    </tr>\n",
       "  </tbody>\n",
       "</table>\n",
       "</div>"
      ],
      "text/plain": [
       "            file_name             species individual_id\n",
       "0  00021adfb725ed.jpg  melon_headed_whale  cadddb1636b9\n",
       "1  000562241d384d.jpg      humpback_whale  1a71fbb72250\n",
       "2  0007c33415ce37.jpg  false_killer_whale  60008f293a2b"
      ]
     },
     "execution_count": 4,
     "metadata": {},
     "output_type": "execute_result"
    }
   ],
   "source": [
    "Labels_DF=pd.DataFrame(all_labels)\n",
    "Labels_DF.rename(columns={'image':'file_name'}, inplace=True)\n",
    "Labels_DF.head(3)"
   ]
  },
  {
   "cell_type": "code",
   "execution_count": 9,
   "metadata": {},
   "outputs": [
    {
     "data": {
      "text/plain": [
       "bottlenose_dolphin           10781\n",
       "beluga                        7443\n",
       "humpback_whale                7392\n",
       "blue_whale                    4830\n",
       "false_killer_whale            3326\n",
       "dusky_dolphin                 3139\n",
       "killer_whale                  2455\n",
       "spinner_dolphin               1700\n",
       "melon_headed_whale            1689\n",
       "minke_whale                   1608\n",
       "fin_whale                     1324\n",
       "gray_whale                    1123\n",
       "southern_right_whale           866\n",
       "spotted_dolphin                490\n",
       "sei_whale                      428\n",
       "short_finned_pilot_whale       367\n",
       "common_dolphin                 347\n",
       "cuviers_beaked_whale           341\n",
       "pilot_whale                    262\n",
       "long_finned_pilot_whale        238\n",
       "white_sided_dolphin            229\n",
       "brydes_whale                   154\n",
       "pantropic_spotted_dolphin      145\n",
       "globis                         116\n",
       "commersons_dolphin              90\n",
       "pygmy_killer_whale              76\n",
       "rough_toothed_dolphin           60\n",
       "frasiers_dolphin                14\n",
       "Name: species, dtype: int64"
      ]
     },
     "execution_count": 9,
     "metadata": {},
     "output_type": "execute_result"
    }
   ],
   "source": [
    "Labels_DF['species'].value_counts()"
   ]
  },
  {
   "cell_type": "code",
   "execution_count": 7,
   "metadata": {},
   "outputs": [],
   "source": [
    "## species with incorrect spellings.  bottlenose_dolpin, kiler_whale.\n",
    "Labels_DF['species'].replace('bottlenose_dolpin', 'bottlenose_dolphin', inplace=True)\n",
    "Labels_DF['species'].replace('kiler_whale', 'killer_whale', inplace=True)"
   ]
  },
  {
   "cell_type": "code",
   "execution_count": 14,
   "metadata": {},
   "outputs": [],
   "source": [
    "## create subspecies for whale or dolphin\n",
    "sub=[]\n",
    "for each in Labels_DF['species']:\n",
    "    if 'dolphin' in each:\n",
    "        a=1\n",
    "    else: a=2\n",
    "    sub.append(a)"
   ]
  },
  {
   "cell_type": "code",
   "execution_count": 15,
   "metadata": {},
   "outputs": [],
   "source": [
    "Labels_DF['sub_cat']=sub"
   ]
  },
  {
   "cell_type": "code",
   "execution_count": 19,
   "metadata": {},
   "outputs": [],
   "source": [
    "## create species cat numerical\n",
    "from sklearn.preprocessing import OrdinalEncoder\n",
    "OE=OrdinalEncoder()\n",
    "SE=OE.fit_transform(Labels_DF[['species']])\n",
    "Labels_DF['species_category']=SE.astype(int)"
   ]
  },
  {
   "cell_type": "code",
   "execution_count": 20,
   "metadata": {
    "scrolled": true
   },
   "outputs": [
    {
     "data": {
      "text/html": [
       "<div>\n",
       "<style scoped>\n",
       "    .dataframe tbody tr th:only-of-type {\n",
       "        vertical-align: middle;\n",
       "    }\n",
       "\n",
       "    .dataframe tbody tr th {\n",
       "        vertical-align: top;\n",
       "    }\n",
       "\n",
       "    .dataframe thead th {\n",
       "        text-align: right;\n",
       "    }\n",
       "</style>\n",
       "<table border=\"1\" class=\"dataframe\">\n",
       "  <thead>\n",
       "    <tr style=\"text-align: right;\">\n",
       "      <th></th>\n",
       "      <th>file_name</th>\n",
       "      <th>species</th>\n",
       "      <th>individual_id</th>\n",
       "      <th>sub_cat</th>\n",
       "      <th>species_category</th>\n",
       "    </tr>\n",
       "  </thead>\n",
       "  <tbody>\n",
       "    <tr>\n",
       "      <th>0</th>\n",
       "      <td>00021adfb725ed.jpg</td>\n",
       "      <td>melon_headed_whale</td>\n",
       "      <td>cadddb1636b9</td>\n",
       "      <td>2</td>\n",
       "      <td>16</td>\n",
       "    </tr>\n",
       "    <tr>\n",
       "      <th>1</th>\n",
       "      <td>000562241d384d.jpg</td>\n",
       "      <td>humpback_whale</td>\n",
       "      <td>1a71fbb72250</td>\n",
       "      <td>2</td>\n",
       "      <td>13</td>\n",
       "    </tr>\n",
       "    <tr>\n",
       "      <th>2</th>\n",
       "      <td>0007c33415ce37.jpg</td>\n",
       "      <td>false_killer_whale</td>\n",
       "      <td>60008f293a2b</td>\n",
       "      <td>2</td>\n",
       "      <td>8</td>\n",
       "    </tr>\n",
       "    <tr>\n",
       "      <th>3</th>\n",
       "      <td>0007d9bca26a99.jpg</td>\n",
       "      <td>bottlenose_dolphin</td>\n",
       "      <td>4b00fe572063</td>\n",
       "      <td>1</td>\n",
       "      <td>2</td>\n",
       "    </tr>\n",
       "    <tr>\n",
       "      <th>4</th>\n",
       "      <td>00087baf5cef7a.jpg</td>\n",
       "      <td>humpback_whale</td>\n",
       "      <td>8e5253662392</td>\n",
       "      <td>2</td>\n",
       "      <td>13</td>\n",
       "    </tr>\n",
       "    <tr>\n",
       "      <th>5</th>\n",
       "      <td>000a8f2d5c316a.jpg</td>\n",
       "      <td>bottlenose_dolphin</td>\n",
       "      <td>b9907151f66e</td>\n",
       "      <td>1</td>\n",
       "      <td>2</td>\n",
       "    </tr>\n",
       "  </tbody>\n",
       "</table>\n",
       "</div>"
      ],
      "text/plain": [
       "            file_name             species individual_id  sub_cat  \\\n",
       "0  00021adfb725ed.jpg  melon_headed_whale  cadddb1636b9        2   \n",
       "1  000562241d384d.jpg      humpback_whale  1a71fbb72250        2   \n",
       "2  0007c33415ce37.jpg  false_killer_whale  60008f293a2b        2   \n",
       "3  0007d9bca26a99.jpg  bottlenose_dolphin  4b00fe572063        1   \n",
       "4  00087baf5cef7a.jpg      humpback_whale  8e5253662392        2   \n",
       "5  000a8f2d5c316a.jpg  bottlenose_dolphin  b9907151f66e        1   \n",
       "\n",
       "   species_category  \n",
       "0                16  \n",
       "1                13  \n",
       "2                 8  \n",
       "3                 2  \n",
       "4                13  \n",
       "5                 2  "
      ]
     },
     "execution_count": 20,
     "metadata": {},
     "output_type": "execute_result"
    }
   ],
   "source": [
    "Labels_DF.head(6)"
   ]
  },
  {
   "cell_type": "code",
   "execution_count": 22,
   "metadata": {
    "scrolled": true
   },
   "outputs": [
    {
     "data": {
      "text/plain": [
       "28"
      ]
     },
     "execution_count": 22,
     "metadata": {},
     "output_type": "execute_result"
    }
   ],
   "source": [
    "len(Labels_DF['species_category'].value_counts())"
   ]
  },
  {
   "cell_type": "code",
   "execution_count": null,
   "metadata": {},
   "outputs": [],
   "source": []
  },
  {
   "cell_type": "code",
   "execution_count": null,
   "metadata": {},
   "outputs": [],
   "source": []
  },
  {
   "cell_type": "code",
   "execution_count": 39,
   "metadata": {},
   "outputs": [],
   "source": [
    "image_list = []\n",
    "for filename in glob.glob('SmallSample/*.jpg'):\n",
    "    im=Image.open(filename)\n",
    "    image_list.append(im)"
   ]
  },
  {
   "cell_type": "code",
   "execution_count": 33,
   "metadata": {},
   "outputs": [],
   "source": [
    "image_names = []\n",
    "for filename in glob.glob('SmallSample/*.jpg'):\n",
    "    name=filename.strip('SmallSample\\\\')\n",
    "    image_names.append(name)"
   ]
  },
  {
   "cell_type": "markdown",
   "metadata": {},
   "source": [
    "####  use image names to determine species label"
   ]
  },
  {
   "cell_type": "code",
   "execution_count": 35,
   "metadata": {},
   "outputs": [],
   "source": [
    "Image_DF=pd.DataFrame({\n",
    "    'image': image_list,\n",
    "    'file_name': image_names\n",
    "    })"
   ]
  },
  {
   "cell_type": "code",
   "execution_count": 36,
   "metadata": {
    "scrolled": false
   },
   "outputs": [
    {
     "data": {
      "text/html": [
       "<div>\n",
       "<style scoped>\n",
       "    .dataframe tbody tr th:only-of-type {\n",
       "        vertical-align: middle;\n",
       "    }\n",
       "\n",
       "    .dataframe tbody tr th {\n",
       "        vertical-align: top;\n",
       "    }\n",
       "\n",
       "    .dataframe thead th {\n",
       "        text-align: right;\n",
       "    }\n",
       "</style>\n",
       "<table border=\"1\" class=\"dataframe\">\n",
       "  <thead>\n",
       "    <tr style=\"text-align: right;\">\n",
       "      <th></th>\n",
       "      <th>image</th>\n",
       "      <th>file_name</th>\n",
       "    </tr>\n",
       "  </thead>\n",
       "  <tbody>\n",
       "    <tr>\n",
       "      <th>0</th>\n",
       "      <td>&lt;PIL.JpegImagePlugin.JpegImageFile image mode=...</td>\n",
       "      <td>000a8f2d5c316a.jpg</td>\n",
       "    </tr>\n",
       "    <tr>\n",
       "      <th>1</th>\n",
       "      <td>&lt;PIL.JpegImagePlugin.JpegImageFile image mode=...</td>\n",
       "      <td>000be9acf46619.jpg</td>\n",
       "    </tr>\n",
       "    <tr>\n",
       "      <th>2</th>\n",
       "      <td>&lt;PIL.JpegImagePlugin.JpegImageFile image mode=...</td>\n",
       "      <td>000bef247c7a42.jpg</td>\n",
       "    </tr>\n",
       "  </tbody>\n",
       "</table>\n",
       "</div>"
      ],
      "text/plain": [
       "                                               image           file_name\n",
       "0  <PIL.JpegImagePlugin.JpegImageFile image mode=...  000a8f2d5c316a.jpg\n",
       "1  <PIL.JpegImagePlugin.JpegImageFile image mode=...  000be9acf46619.jpg\n",
       "2  <PIL.JpegImagePlugin.JpegImageFile image mode=...  000bef247c7a42.jpg"
      ]
     },
     "execution_count": 36,
     "metadata": {},
     "output_type": "execute_result"
    }
   ],
   "source": [
    "Image_DF.head(3)"
   ]
  },
  {
   "cell_type": "code",
   "execution_count": 46,
   "metadata": {},
   "outputs": [],
   "source": [
    "tf_files=[]\n",
    "for each in image_list:\n",
    "    ar=tf.keras.preprocessing.image.img_to_array(each)\n",
    "    tf_files.append(ar)\n"
   ]
  },
  {
   "cell_type": "code",
   "execution_count": 47,
   "metadata": {},
   "outputs": [],
   "source": [
    "Image_DF['tf_images']=tf_files"
   ]
  },
  {
   "cell_type": "code",
   "execution_count": 48,
   "metadata": {},
   "outputs": [
    {
     "data": {
      "text/html": [
       "<div>\n",
       "<style scoped>\n",
       "    .dataframe tbody tr th:only-of-type {\n",
       "        vertical-align: middle;\n",
       "    }\n",
       "\n",
       "    .dataframe tbody tr th {\n",
       "        vertical-align: top;\n",
       "    }\n",
       "\n",
       "    .dataframe thead th {\n",
       "        text-align: right;\n",
       "    }\n",
       "</style>\n",
       "<table border=\"1\" class=\"dataframe\">\n",
       "  <thead>\n",
       "    <tr style=\"text-align: right;\">\n",
       "      <th></th>\n",
       "      <th>image</th>\n",
       "      <th>file_name</th>\n",
       "      <th>tf_images</th>\n",
       "    </tr>\n",
       "  </thead>\n",
       "  <tbody>\n",
       "    <tr>\n",
       "      <th>0</th>\n",
       "      <td>&lt;PIL.JpegImagePlugin.JpegImageFile image mode=...</td>\n",
       "      <td>000a8f2d5c316a.jpg</td>\n",
       "      <td>[[[162.0, 163.0, 165.0], [163.0, 164.0, 166.0]...</td>\n",
       "    </tr>\n",
       "    <tr>\n",
       "      <th>1</th>\n",
       "      <td>&lt;PIL.JpegImagePlugin.JpegImageFile image mode=...</td>\n",
       "      <td>000be9acf46619.jpg</td>\n",
       "      <td>[[[80.0, 95.0, 102.0], [80.0, 95.0, 102.0], [8...</td>\n",
       "    </tr>\n",
       "    <tr>\n",
       "      <th>2</th>\n",
       "      <td>&lt;PIL.JpegImagePlugin.JpegImageFile image mode=...</td>\n",
       "      <td>000bef247c7a42.jpg</td>\n",
       "      <td>[[[153.0, 195.0, 235.0], [153.0, 195.0, 235.0]...</td>\n",
       "    </tr>\n",
       "    <tr>\n",
       "      <th>3</th>\n",
       "      <td>&lt;PIL.JpegImagePlugin.JpegImageFile image mode=...</td>\n",
       "      <td>000c3d63069748.jpg</td>\n",
       "      <td>[[[101.0, 132.0, 163.0], [101.0, 132.0, 163.0]...</td>\n",
       "    </tr>\n",
       "  </tbody>\n",
       "</table>\n",
       "</div>"
      ],
      "text/plain": [
       "                                               image           file_name  \\\n",
       "0  <PIL.JpegImagePlugin.JpegImageFile image mode=...  000a8f2d5c316a.jpg   \n",
       "1  <PIL.JpegImagePlugin.JpegImageFile image mode=...  000be9acf46619.jpg   \n",
       "2  <PIL.JpegImagePlugin.JpegImageFile image mode=...  000bef247c7a42.jpg   \n",
       "3  <PIL.JpegImagePlugin.JpegImageFile image mode=...  000c3d63069748.jpg   \n",
       "\n",
       "                                           tf_images  \n",
       "0  [[[162.0, 163.0, 165.0], [163.0, 164.0, 166.0]...  \n",
       "1  [[[80.0, 95.0, 102.0], [80.0, 95.0, 102.0], [8...  \n",
       "2  [[[153.0, 195.0, 235.0], [153.0, 195.0, 235.0]...  \n",
       "3  [[[101.0, 132.0, 163.0], [101.0, 132.0, 163.0]...  "
      ]
     },
     "execution_count": 48,
     "metadata": {},
     "output_type": "execute_result"
    }
   ],
   "source": [
    "Image_DF.head(4)"
   ]
  },
  {
   "cell_type": "code",
   "execution_count": 49,
   "metadata": {},
   "outputs": [],
   "source": [
    "## Join Dataframes\n",
    "\n",
    "Big_DF=Image_DF.merge(Labels_DF, how='outer')"
   ]
  },
  {
   "cell_type": "code",
   "execution_count": 50,
   "metadata": {},
   "outputs": [
    {
     "data": {
      "text/html": [
       "<div>\n",
       "<style scoped>\n",
       "    .dataframe tbody tr th:only-of-type {\n",
       "        vertical-align: middle;\n",
       "    }\n",
       "\n",
       "    .dataframe tbody tr th {\n",
       "        vertical-align: top;\n",
       "    }\n",
       "\n",
       "    .dataframe thead th {\n",
       "        text-align: right;\n",
       "    }\n",
       "</style>\n",
       "<table border=\"1\" class=\"dataframe\">\n",
       "  <thead>\n",
       "    <tr style=\"text-align: right;\">\n",
       "      <th></th>\n",
       "      <th>image</th>\n",
       "      <th>file_name</th>\n",
       "      <th>tf_images</th>\n",
       "      <th>species</th>\n",
       "      <th>individual_id</th>\n",
       "      <th>sub_cat</th>\n",
       "      <th>species_category</th>\n",
       "    </tr>\n",
       "  </thead>\n",
       "  <tbody>\n",
       "    <tr>\n",
       "      <th>0</th>\n",
       "      <td>&lt;PIL.JpegImagePlugin.JpegImageFile image mode=...</td>\n",
       "      <td>000a8f2d5c316a.jpg</td>\n",
       "      <td>[[[162.0, 163.0, 165.0], [163.0, 164.0, 166.0]...</td>\n",
       "      <td>bottlenose_dolphin</td>\n",
       "      <td>b9907151f66e</td>\n",
       "      <td>1</td>\n",
       "      <td>2</td>\n",
       "    </tr>\n",
       "    <tr>\n",
       "      <th>1</th>\n",
       "      <td>&lt;PIL.JpegImagePlugin.JpegImageFile image mode=...</td>\n",
       "      <td>000be9acf46619.jpg</td>\n",
       "      <td>[[[80.0, 95.0, 102.0], [80.0, 95.0, 102.0], [8...</td>\n",
       "      <td>beluga</td>\n",
       "      <td>afb9b3978217</td>\n",
       "      <td>2</td>\n",
       "      <td>0</td>\n",
       "    </tr>\n",
       "    <tr>\n",
       "      <th>2</th>\n",
       "      <td>&lt;PIL.JpegImagePlugin.JpegImageFile image mode=...</td>\n",
       "      <td>000bef247c7a42.jpg</td>\n",
       "      <td>[[[153.0, 195.0, 235.0], [153.0, 195.0, 235.0]...</td>\n",
       "      <td>humpback_whale</td>\n",
       "      <td>444d8894ccc8</td>\n",
       "      <td>2</td>\n",
       "      <td>13</td>\n",
       "    </tr>\n",
       "    <tr>\n",
       "      <th>3</th>\n",
       "      <td>&lt;PIL.JpegImagePlugin.JpegImageFile image mode=...</td>\n",
       "      <td>000c3d63069748.jpg</td>\n",
       "      <td>[[[101.0, 132.0, 163.0], [101.0, 132.0, 163.0]...</td>\n",
       "      <td>beluga</td>\n",
       "      <td>df94b15285b9</td>\n",
       "      <td>2</td>\n",
       "      <td>0</td>\n",
       "    </tr>\n",
       "    <tr>\n",
       "      <th>4</th>\n",
       "      <td>&lt;PIL.JpegImagePlugin.JpegImageFile image mode=...</td>\n",
       "      <td>000c476c11bad5.jpg</td>\n",
       "      <td>[[[36.0, 62.0, 79.0], [36.0, 62.0, 79.0], [37....</td>\n",
       "      <td>bottlenose_dolphin</td>\n",
       "      <td>b11b2404c7e3</td>\n",
       "      <td>1</td>\n",
       "      <td>2</td>\n",
       "    </tr>\n",
       "    <tr>\n",
       "      <th>5</th>\n",
       "      <td>&lt;PIL.JpegImagePlugin.JpegImageFile image mode=...</td>\n",
       "      <td>00a198105cdc24.jpg</td>\n",
       "      <td>[[[46.0, 86.0, 145.0], [39.0, 79.0, 138.0], [3...</td>\n",
       "      <td>humpback_whale</td>\n",
       "      <td>da611bc6c389</td>\n",
       "      <td>2</td>\n",
       "      <td>13</td>\n",
       "    </tr>\n",
       "  </tbody>\n",
       "</table>\n",
       "</div>"
      ],
      "text/plain": [
       "                                               image           file_name  \\\n",
       "0  <PIL.JpegImagePlugin.JpegImageFile image mode=...  000a8f2d5c316a.jpg   \n",
       "1  <PIL.JpegImagePlugin.JpegImageFile image mode=...  000be9acf46619.jpg   \n",
       "2  <PIL.JpegImagePlugin.JpegImageFile image mode=...  000bef247c7a42.jpg   \n",
       "3  <PIL.JpegImagePlugin.JpegImageFile image mode=...  000c3d63069748.jpg   \n",
       "4  <PIL.JpegImagePlugin.JpegImageFile image mode=...  000c476c11bad5.jpg   \n",
       "5  <PIL.JpegImagePlugin.JpegImageFile image mode=...  00a198105cdc24.jpg   \n",
       "\n",
       "                                           tf_images             species  \\\n",
       "0  [[[162.0, 163.0, 165.0], [163.0, 164.0, 166.0]...  bottlenose_dolphin   \n",
       "1  [[[80.0, 95.0, 102.0], [80.0, 95.0, 102.0], [8...              beluga   \n",
       "2  [[[153.0, 195.0, 235.0], [153.0, 195.0, 235.0]...      humpback_whale   \n",
       "3  [[[101.0, 132.0, 163.0], [101.0, 132.0, 163.0]...              beluga   \n",
       "4  [[[36.0, 62.0, 79.0], [36.0, 62.0, 79.0], [37....  bottlenose_dolphin   \n",
       "5  [[[46.0, 86.0, 145.0], [39.0, 79.0, 138.0], [3...      humpback_whale   \n",
       "\n",
       "  individual_id  sub_cat  species_category  \n",
       "0  b9907151f66e        1                 2  \n",
       "1  afb9b3978217        2                 0  \n",
       "2  444d8894ccc8        2                13  \n",
       "3  df94b15285b9        2                 0  \n",
       "4  b11b2404c7e3        1                 2  \n",
       "5  da611bc6c389        2                13  "
      ]
     },
     "execution_count": 50,
     "metadata": {},
     "output_type": "execute_result"
    }
   ],
   "source": [
    "Big_DF.head(6)"
   ]
  },
  {
   "cell_type": "code",
   "execution_count": 55,
   "metadata": {},
   "outputs": [
    {
     "data": {
      "text/plain": [
       "(2304, 3456, 3)"
      ]
     },
     "execution_count": 55,
     "metadata": {},
     "output_type": "execute_result"
    }
   ],
   "source": [
    "Big_DF['tf_images'][0].shape"
   ]
  },
  {
   "cell_type": "code",
   "execution_count": null,
   "metadata": {},
   "outputs": [],
   "source": []
  },
  {
   "cell_type": "code",
   "execution_count": null,
   "metadata": {},
   "outputs": [],
   "source": []
  }
 ],
 "metadata": {
  "kernelspec": {
   "display_name": "Python 3",
   "language": "python",
   "name": "python3"
  },
  "language_info": {
   "codemirror_mode": {
    "name": "ipython",
    "version": 3
   },
   "file_extension": ".py",
   "mimetype": "text/x-python",
   "name": "python",
   "nbconvert_exporter": "python",
   "pygments_lexer": "ipython3",
   "version": "3.7.6"
  }
 },
 "nbformat": 4,
 "nbformat_minor": 4
}
